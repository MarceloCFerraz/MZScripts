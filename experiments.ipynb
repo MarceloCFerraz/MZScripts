{
 "cells": [
  {
   "cell_type": "code",
   "execution_count": null,
   "metadata": {},
   "outputs": [],
   "source": [
    "import concurrent.futures\n",
    "from datetime import datetime\n",
    "\n",
    "def test(i):\n",
    "    print(i, end=\" \")\n",
    "\n",
    "start = datetime.now()\n",
    "with concurrent.futures.ThreadPoolExecutor() as pool:\n",
    "    for i in range (0, 1000):\n",
    "        pool.submit(test, i)\n",
    "pool.shutdown(wait=True)\n",
    "print()\n",
    "\n",
    "print(datetime.now() - start)\n",
    "\n",
    "newstart = datetime.now()\n",
    "for i in range (0, 1000):\n",
    "    test (i)\n",
    "print()\n",
    "print(datetime.now() - newstart)"
   ]
  },
  {
   "cell_type": "code",
   "execution_count": null,
   "metadata": {},
   "outputs": [],
   "source": [
    "def my_function(index):\n",
    "    print(f\"Starting task {index}\")\n",
    "    # Simulate some work\n",
    "    result = sum(i * i for i in range(10**6))\n",
    "    print(f\"Task {index} completed with result: {result}\")\n",
    "\n",
    "if __name__ == \"__main__\":\n",
    "    # Number of tasks\n",
    "    num_tasks = 5\n",
    "\n",
    "    # Create a ThreadPoolExecutor with 3 worker threads\n",
    "    with concurrent.futures.ThreadPoolExecutor(max_workers=3) as executor:\n",
    "        # Submit tasks to the executor\n",
    "        future_to_task = {executor.submit(my_function, i): i for i in range(num_tasks)}\n",
    "\n",
    "        # Wait for all tasks to complete\n",
    "        # concurrent.futures.wait(future_to_task)\n",
    "\n",
    "        # Access the results (if needed)\n",
    "        for future in future_to_task:\n",
    "            result = future.result()\n",
    "            # Do something with the result if needed\n"
   ]
  },
  {
   "cell_type": "code",
   "execution_count": null,
   "metadata": {},
   "outputs": [],
   "source": [
    "import concurrent.futures\n",
    "import time\n",
    "\n",
    "def my_function(index):\n",
    "    print(f\"Starting task {index}\")\n",
    "    # Simulate some work\n",
    "    time.sleep(2)\n",
    "    print(f\"Task {index} completed\")\n",
    "\n",
    "if __name__ == \"__main__\":\n",
    "    # Number of tasks\n",
    "    num_tasks = 10\n",
    "\n",
    "    # Create a ThreadPoolExecutor without specifying max_workers\n",
    "    with concurrent.futures.ThreadPoolExecutor() as executor:\n",
    "        # Submit tasks to the executor asynchronously\n",
    "        futures = [executor.submit(my_function, i) for i in range(num_tasks)]\n",
    "\n",
    "        # Continue with other tasks or processing without waiting for the submitted tasks\n",
    "        print(\"Continuing with other tasks while threads are running...\")\n",
    "\n",
    "    # At this point, the with block has exited, and the ThreadPoolExecutor has been shut down.\n",
    "    # The submitted tasks may still be running in the background.\n",
    "\n",
    "    # You can check the status of each task using the `done` method of the Future objects\n",
    "    for future in concurrent.futures.as_completed(futures):\n",
    "        if future.done():\n",
    "            result = future.result()\n",
    "            # Do something with the result if needed\n",
    "            print(f\"Task completed with result: {result}\")\n"
   ]
  },
  {
   "cell_type": "code",
   "execution_count": 3,
   "metadata": {},
   "outputs": [
    {
     "name": "stdout",
     "output_type": "stream",
     "text": [
      "[]\n"
     ]
    }
   ],
   "source": [
    "note = \"Done. Itinerary ids: [ fac1ab60-fd7a-4ff9-8798-e9167060295c ]\"\n",
    "\n",
    "start = int(note.find(\"[\"))\n",
    "end = int(note.find(\"]\"))\n",
    "\n",
    "iti = note[start + 1:end].strip()\n",
    "\n",
    "print(f\"[ {iti} ]\")"
   ]
  },
  {
   "cell_type": "code",
   "execution_count": 1,
   "metadata": {},
   "outputs": [
    {
     "name": "stdout",
     "output_type": "stream",
     "text": [
      ">> Please, type the keys to search packages one per time.>> They should all be of the same type ({str(key_type).upper()}) otherwise, the program will break.>> Leave blank if you're done.>> At least one key is needed\n"
     ]
    }
   ],
   "source": [
    "print(\n",
    "        \">> Please, type the keys to search packages one per time.\"\n",
    "        + \">> They should all be of the same type ({str(key_type).upper()}) otherwise, the program will break.\"\n",
    "        + \">> Leave blank if you're done.\"\n",
    "        + \">> At least one key is needed\"\n",
    "    )"
   ]
  },
  {
   "cell_type": "code",
   "execution_count": 2,
   "metadata": {},
   "outputs": [
    {
     "name": "stdout",
     "output_type": "stream",
     "text": [
      ">> hub1     hub2     hub3     hub4     hub5     hub6(+)  \n",
      "HUB 1 + 2024-01-12\n",
      "HUB 1 + 2024-01-13\n",
      "HUB 2 + 2024-01-12\n",
      "HUB 2 + 2024-01-13\n"
     ]
    }
   ],
   "source": [
    "PACKAGES = {\n",
    "    \"HUB 1\": {\n",
    "        \"2024-01-12\": [{}],\n",
    "        \"2024-01-13\": [{}],\n",
    "    },\n",
    "    \"HUB 2\": {\n",
    "        \"2024-01-12\": [{}],\n",
    "        \"2024-01-13\": [{}],\n",
    "    }\n",
    "}\n",
    "\n",
    "sets = []\n",
    "\n",
    "for hub, dates in PACKAGES.items():\n",
    "    for date in dates:\n",
    "        if (hub, date) not in sets:\n",
    "            sets.append((hub, date))\n",
    "\n",
    "desiredHubs = [\"hub1\", \"hub2\",\"hub3\",\"hub4\",\"hub5\"]\n",
    "fleetHubs = [\"hub1\", \"hub2\",\"hub3\",\"hub4\",\"hub5\", \"hub6\"]\n",
    "printString = [\n",
    "            f\"{hub}{'' if hub in desiredHubs else '(+)'}\" for hub in fleetHubs\n",
    "        ]\n",
    "printString = [f\"{string:<9}\" for string in printString]\n",
    "print(f\">> {''.join(printString)}\")\n",
    "\n",
    "\n",
    "for hub, date in sets:\n",
    "    print (hub + \" + \" + date)"
   ]
  },
  {
   "cell_type": "code",
   "execution_count": 12,
   "metadata": {},
   "outputs": [
    {
     "name": "stdout",
     "output_type": "stream",
     "text": [
      "=============== PROCESSING MARCELO ===============\n"
     ]
    }
   ],
   "source": [
    "name = \"Marcelo\"\n",
    "print(f\"{f' PROCESSING {str(name).upper()} ':=^50}\")"
   ]
  },
  {
   "cell_type": "code",
   "execution_count": 1,
   "metadata": {},
   "outputs": [
    {
     "name": "stdout",
     "output_type": "stream",
     "text": [
      "THREAD COUNT: 5\n",
      "MAX REQUESTS: 250\n",
      "REQUESTS LEN: 172\n",
      "REQUESTS PER THREAD: 34.4 (int 34)\n",
      "\n",
      "Thread 1 is processing requests '0' to '34' (exclusive). Total = 34\n",
      "Thread 2 is processing requests '34' to '68' (exclusive). Total = 34\n",
      "Thread 3 is processing requests '68' to '103' (exclusive). Total = 35\n",
      "Thread 4 is processing requests '103' to '137' (exclusive). Total = 34\n",
      "Thread 5 is processing requests '137' to '172' (exclusive). Total = 35\n"
     ]
    }
   ],
   "source": [
    "threads = 5\n",
    "print(f'THREAD COUNT: {threads}')\n",
    "page_size = 50\n",
    "max_requests = page_size * threads\n",
    "print(f'MAX REQUESTS: {max_requests}')\n",
    "\n",
    "requests = [i for i in range(0, 172)]\n",
    "print(f'REQUESTS LEN: {len(requests)}')\n",
    "\n",
    "request_per_thread = len(requests) / threads\n",
    "print(f'REQUESTS PER THREAD: {request_per_thread} (int {int(request_per_thread)})')\n",
    "\n",
    "print()\n",
    "for thread_number in range(1, threads + 1):\n",
    "    higher_limit = request_per_thread * thread_number\n",
    "    lower_limit = higher_limit - request_per_thread\n",
    "\n",
    "    higher_limit = int(higher_limit)\n",
    "    lower_limit = int(lower_limit)\n",
    "\n",
    "    print(\n",
    "        f\"Thread {thread_number} is processing requests '{lower_limit}' to '{higher_limit}' (exclusive). \"+\n",
    "        f\"Total = {higher_limit - lower_limit}\"\n",
    "    )\n",
    "\n",
    "    for i in range(lower_limit, higher_limit):\n",
    "        req = requests[i]\n",
    "        # fetch request data in tesseract and save the file contents\n",
    "    #     print(req, end=\" \")\n",
    "    # print()\n",
    "    "
   ]
  },
  {
   "cell_type": "code",
   "execution_count": 2,
   "metadata": {},
   "outputs": [
    {
     "name": "stdout",
     "output_type": "stream",
     "text": [
      "THREAD COUNT: 5\n",
      "MAX REQUESTS: 250\n",
      "REQUESTS LEN: 172\n",
      "REQUESTS PER THREAD: 34.4 (int 34)\n",
      "\n",
      "Thread 1 is processing requests '0' to '34' (exclusive). Total = 34\n",
      "Thread 2 is processing requests '33' to '68' (exclusive). Total = 35\n",
      "Thread 3 is processing requests '68' to '103' (exclusive). Total = 35\n",
      "Thread 4 is processing requests '102' to '137' (exclusive). Total = 35\n",
      "Thread 5 is processing requests '137' to '172' (exclusive). Total = 35\n"
     ]
    }
   ],
   "source": [
    "threads = 5\n",
    "print(f'THREAD COUNT: {threads}')\n",
    "page_size = 50\n",
    "max_requests = page_size * threads\n",
    "print(f'MAX REQUESTS: {max_requests}')\n",
    "\n",
    "requests = [i for i in range(0, 172)]\n",
    "print(f'REQUESTS LEN: {len(requests)}')\n",
    "\n",
    "request_per_thread = len(requests) / threads\n",
    "print(f'REQUESTS PER THREAD: {request_per_thread} (int {int(request_per_thread)})')\n",
    "\n",
    "print()\n",
    "for thread_number in range(1, threads + 1):\n",
    "    higher_limit = int(request_per_thread * thread_number)\n",
    "    lower_limit = int(higher_limit - request_per_thread)\n",
    "\n",
    "    print(\n",
    "        f\"Thread {thread_number} is processing requests '{lower_limit}' to '{higher_limit}' (exclusive). \"+\n",
    "        f\"Total = {higher_limit - lower_limit}\"\n",
    "    )\n",
    "\n",
    "    for i in range(lower_limit, higher_limit):\n",
    "        req = requests[i]\n",
    "        # fetch request data in tesseract and save the file contents\n",
    "    #     print(req, end=\" \")\n",
    "    # print()\n",
    "    "
   ]
  },
  {
   "cell_type": "code",
   "execution_count": 53,
   "metadata": {},
   "outputs": [
    {
     "name": "stdout",
     "output_type": "stream",
     "text": [
      "{'requestId': {'header': '4 warnings', 'messages': [{'msg 1': 'order 1 failed'}, {'msg 2': 'order 2 failed'}], 'details': ['det 1', 'det 2']}}\n"
     ]
    }
   ],
   "source": [
    "response = {}\n",
    "notes = {}\n",
    "header = f\"{4} warnings\"\n",
    "messages = [{\"msg 1\": \"order 1 failed\"}, {\"msg 2\": \"order 2 failed\"}]\n",
    "details = [\"det 1\", \"det 2\"]\n",
    "\n",
    "response[\"requestId\"] = {\"header\": header, \"messages\": messages, \"details\": details}\n",
    "\n",
    "print(response)"
   ]
  },
  {
   "cell_type": "code",
   "execution_count": 55,
   "metadata": {},
   "outputs": [
    {
     "name": "stdout",
     "output_type": "stream",
     "text": [
      "2\n"
     ]
    }
   ],
   "source": [
    "global_var = 0\n",
    "\n",
    "def meth():\n",
    "    global global_var\n",
    "    globals()[\"global_var\"] += 1\n",
    "\n",
    "    global_var += 1\n",
    "\n",
    "\n",
    "meth()\n",
    "print(global_var)"
   ]
  }
 ],
 "metadata": {
  "kernelspec": {
   "display_name": "venv",
   "language": "python",
   "name": "python3"
  },
  "language_info": {
   "codemirror_mode": {
    "name": "ipython",
    "version": 3
   },
   "file_extension": ".py",
   "mimetype": "text/x-python",
   "name": "python",
   "nbconvert_exporter": "python",
   "pygments_lexer": "ipython3",
   "version": "3.11.7"
  }
 },
 "nbformat": 4,
 "nbformat_minor": 2
}
