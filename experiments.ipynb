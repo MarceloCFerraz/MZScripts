{
 "cells": [
  {
   "cell_type": "code",
   "execution_count": null,
   "metadata": {},
   "outputs": [],
   "source": [
    "import concurrent.futures\n",
    "from datetime import datetime\n",
    "\n",
    "def test(i):\n",
    "    print(i, end=\" \")\n",
    "\n",
    "start = datetime.now()\n",
    "with concurrent.futures.ThreadPoolExecutor() as pool:\n",
    "    for i in range (0, 1000):\n",
    "        pool.submit(test, i)\n",
    "pool.shutdown(wait=True)\n",
    "print()\n",
    "\n",
    "print(datetime.now() - start)\n",
    "\n",
    "newstart = datetime.now()\n",
    "for i in range (0, 1000):\n",
    "    test (i)\n",
    "print()\n",
    "print(datetime.now() - newstart)"
   ]
  },
  {
   "cell_type": "code",
   "execution_count": null,
   "metadata": {},
   "outputs": [],
   "source": [
    "def my_function(index):\n",
    "    print(f\"Starting task {index}\")\n",
    "    # Simulate some work\n",
    "    result = sum(i * i for i in range(10**6))\n",
    "    print(f\"Task {index} completed with result: {result}\")\n",
    "\n",
    "if __name__ == \"__main__\":\n",
    "    # Number of tasks\n",
    "    num_tasks = 5\n",
    "\n",
    "    # Create a ThreadPoolExecutor with 3 worker threads\n",
    "    with concurrent.futures.ThreadPoolExecutor(max_workers=3) as executor:\n",
    "        # Submit tasks to the executor\n",
    "        future_to_task = {executor.submit(my_function, i): i for i in range(num_tasks)}\n",
    "\n",
    "        # Wait for all tasks to complete\n",
    "        # concurrent.futures.wait(future_to_task)\n",
    "\n",
    "        # Access the results (if needed)\n",
    "        for future in future_to_task:\n",
    "            result = future.result()\n",
    "            # Do something with the result if needed\n"
   ]
  },
  {
   "cell_type": "code",
   "execution_count": null,
   "metadata": {},
   "outputs": [],
   "source": [
    "import concurrent.futures\n",
    "import time\n",
    "\n",
    "def my_function(index):\n",
    "    print(f\"Starting task {index}\")\n",
    "    # Simulate some work\n",
    "    time.sleep(2)\n",
    "    print(f\"Task {index} completed\")\n",
    "\n",
    "if __name__ == \"__main__\":\n",
    "    # Number of tasks\n",
    "    num_tasks = 10\n",
    "\n",
    "    # Create a ThreadPoolExecutor without specifying max_workers\n",
    "    with concurrent.futures.ThreadPoolExecutor() as executor:\n",
    "        # Submit tasks to the executor asynchronously\n",
    "        futures = [executor.submit(my_function, i) for i in range(num_tasks)]\n",
    "\n",
    "        # Continue with other tasks or processing without waiting for the submitted tasks\n",
    "        print(\"Continuing with other tasks while threads are running...\")\n",
    "\n",
    "    # At this point, the with block has exited, and the ThreadPoolExecutor has been shut down.\n",
    "    # The submitted tasks may still be running in the background.\n",
    "\n",
    "    # You can check the status of each task using the `done` method of the Future objects\n",
    "    for future in concurrent.futures.as_completed(futures):\n",
    "        if future.done():\n",
    "            result = future.result()\n",
    "            # Do something with the result if needed\n",
    "            print(f\"Task completed with result: {result}\")\n"
   ]
  },
  {
   "cell_type": "code",
   "execution_count": 3,
   "metadata": {},
   "outputs": [
    {
     "name": "stdout",
     "output_type": "stream",
     "text": [
      "[]\n"
     ]
    }
   ],
   "source": [
    "note = \"Done. Itinerary ids: [ fac1ab60-fd7a-4ff9-8798-e9167060295c ]\"\n",
    "\n",
    "start = int(note.find(\"[\"))\n",
    "end = int(note.find(\"]\"))\n",
    "\n",
    "iti = note[start + 1:end].strip()\n",
    "\n",
    "print(f\"[ {iti} ]\")"
   ]
  },
  {
   "cell_type": "code",
   "execution_count": 1,
   "metadata": {},
   "outputs": [
    {
     "name": "stdout",
     "output_type": "stream",
     "text": [
      ">> Please, type the keys to search packages one per time.>> They should all be of the same type ({str(key_type).upper()}) otherwise, the program will break.>> Leave blank if you're done.>> At least one key is needed\n"
     ]
    }
   ],
   "source": [
    "print(\n",
    "        \">> Please, type the keys to search packages one per time.\"\n",
    "        + \">> They should all be of the same type ({str(key_type).upper()}) otherwise, the program will break.\"\n",
    "        + \">> Leave blank if you're done.\"\n",
    "        + \">> At least one key is needed\"\n",
    "    )"
   ]
  },
  {
   "cell_type": "code",
   "execution_count": 2,
   "metadata": {},
   "outputs": [
    {
     "name": "stdout",
     "output_type": "stream",
     "text": [
      ">> hub1     hub2     hub3     hub4     hub5     hub6(+)  \n",
      "HUB 1 + 2024-01-12\n",
      "HUB 1 + 2024-01-13\n",
      "HUB 2 + 2024-01-12\n",
      "HUB 2 + 2024-01-13\n"
     ]
    }
   ],
   "source": [
    "PACKAGES = {\n",
    "    \"HUB 1\": {\n",
    "        \"2024-01-12\": [{}],\n",
    "        \"2024-01-13\": [{}],\n",
    "    },\n",
    "    \"HUB 2\": {\n",
    "        \"2024-01-12\": [{}],\n",
    "        \"2024-01-13\": [{}],\n",
    "    }\n",
    "}\n",
    "\n",
    "sets = []\n",
    "\n",
    "for hub, dates in PACKAGES.items():\n",
    "    for date in dates:\n",
    "        if (hub, date) not in sets:\n",
    "            sets.append((hub, date))\n",
    "\n",
    "desiredHubs = [\"hub1\", \"hub2\",\"hub3\",\"hub4\",\"hub5\"]\n",
    "fleetHubs = [\"hub1\", \"hub2\",\"hub3\",\"hub4\",\"hub5\", \"hub6\"]\n",
    "printString = [\n",
    "            f\"{hub}{'' if hub in desiredHubs else '(+)'}\" for hub in fleetHubs\n",
    "        ]\n",
    "printString = [f\"{string:<9}\" for string in printString]\n",
    "print(f\">> {''.join(printString)}\")\n",
    "\n",
    "\n",
    "for hub, date in sets:\n",
    "    print (hub + \" + \" + date)"
   ]
  },
  {
   "cell_type": "code",
   "execution_count": 12,
   "metadata": {},
   "outputs": [
    {
     "name": "stdout",
     "output_type": "stream",
     "text": [
      "=============== PROCESSING MARCELO ===============\n"
     ]
    }
   ],
   "source": [
    "name = \"Marcelo\"\n",
    "print(f\"{f' PROCESSING {str(name).upper()} ':=^50}\")"
   ]
  }
 ],
 "metadata": {
  "kernelspec": {
   "display_name": "venv",
   "language": "python",
   "name": "python3"
  },
  "language_info": {
   "codemirror_mode": {
    "name": "ipython",
    "version": 3
   },
   "file_extension": ".py",
   "mimetype": "text/x-python",
   "name": "python",
   "nbconvert_exporter": "python",
   "pygments_lexer": "ipython3",
   "version": "3.11.2"
  }
 },
 "nbformat": 4,
 "nbformat_minor": 2
}
